{
  "cells": [
    {
      "cell_type": "markdown",
      "id": "09753275",
      "metadata": {
        "id": "09753275"
      },
      "source": [
        "### Problem 1: Personalized Greeting\n",
        "Write a function called `miniMadLib` that takes three arguments `noun`, `verb`, and `adjective` and combines them to print out a one sentence madlib."
      ]
    },
    {
      "cell_type": "code",
      "execution_count": null,
      "id": "ddf2e45a",
      "metadata": {
        "id": "ddf2e45a"
      },
      "outputs": [],
      "source": []
    },
    {
      "cell_type": "markdown",
      "id": "b4cea3d8",
      "metadata": {
        "id": "b4cea3d8"
      },
      "source": [
        "### Problem 2: Calculate the Volume of a Cylinder\n",
        "Write a function called `calculateCylinderVolume` that takes the radius and height of a cylinder and returns its internal volume. Use the built in math constant for pi."
      ]
    },
    {
      "cell_type": "code",
      "execution_count": null,
      "id": "024d5340",
      "metadata": {
        "id": "024d5340"
      },
      "outputs": [],
      "source": []
    },
    {
      "cell_type": "markdown",
      "id": "92c72848",
      "metadata": {
        "id": "92c72848"
      },
      "source": [
        "### Problem 3: File Reader\n",
        "Write a function called `fileWiper` that takes in a file path and stores the content of the file in a string before wiping the file blank and returning the stored string."
      ]
    },
    {
      "cell_type": "code",
      "execution_count": null,
      "id": "0ec2ccdd",
      "metadata": {
        "id": "0ec2ccdd"
      },
      "outputs": [],
      "source": []
    }
  ],
  "metadata": {
    "colab": {
      "provenance": []
    },
    "language_info": {
      "name": "python"
    },
    "kernelspec": {
      "name": "python3",
      "display_name": "Python 3"
    }
  },
  "nbformat": 4,
  "nbformat_minor": 5
}