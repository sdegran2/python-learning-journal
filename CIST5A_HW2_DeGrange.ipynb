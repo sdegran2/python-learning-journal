{
 "cells": [
  {
   "cell_type": "markdown",
   "id": "09753275",
   "metadata": {
    "id": "09753275"
   },
   "source": [
    "### Problem 1: Personalized Greeting\n",
    "Write a function called `miniMadLib` that takes three arguments `noun`, `verb`, and `adjective` and combines them to print out a one sentence madlib."
   ]
  },
  {
   "cell_type": "code",
   "execution_count": 5,
   "id": "ddf2e45a",
   "metadata": {
    "id": "ddf2e45a"
   },
   "outputs": [
    {
     "name": "stdout",
     "output_type": "stream",
     "text": [
      "The girl slept during the booby contest, winning the weirdest booby prize!\n"
     ]
    }
   ],
   "source": [
    "def miniMadLib(noun, verb, adjective):\n",
    "    print(f\"The {noun} {verb} during the booby contest, winning the {adjective} booby prize!\")\n",
    "\n",
    "# Example \n",
    "miniMadLib(\"girl\", \"slept\", \"weirdest\")"
   ]
  },
  {
   "cell_type": "markdown",
   "id": "b4cea3d8",
   "metadata": {
    "id": "b4cea3d8"
   },
   "source": [
    "### Problem 2: Calculate the Volume of a Cylinder\n",
    "Write a function called `calculateCylinderVolume` that takes the radius and height of a cylinder and returns its internal volume. Use the built in math constant for pi."
   ]
  },
  {
   "cell_type": "code",
   "execution_count": 3,
   "id": "024d5340",
   "metadata": {
    "id": "024d5340"
   },
   "outputs": [
    {
     "name": "stdout",
     "output_type": "stream",
     "text": [
      "113.09733552923255\n"
     ]
    }
   ],
   "source": [
    "import math     # needed for π (aka math.pi)\n",
    "# Function to compute the volume of a cylinder given radius of its base and its height\n",
    "# The formula for the volume of a cylinder with a base radius r and height h is πr²h\n",
    "def calculateCylinderVolume(radius, height):\n",
    "    return math.pi * radius**2 * height\n",
    "\n",
    "# Example\n",
    "volume = calculateCylinderVolume(3, 4)\n",
    "print(volume)\n"
   ]
  },
  {
   "cell_type": "markdown",
   "id": "92c72848",
   "metadata": {
    "id": "92c72848"
   },
   "source": [
    "### Problem 3: File Reader\n",
    "Write a function called `fileWiper` that takes in a file path and stores the content of the file in a string before wiping the file blank and returning the stored string."
   ]
  },
  {
   "cell_type": "code",
   "execution_count": 5,
   "id": "0ec2ccdd",
   "metadata": {
    "id": "0ec2ccdd"
   },
   "outputs": [],
   "source": [
    "# Function to get content of a file, set it to empty, and return the initial content\n",
    "def fileWiper(filePath):\n",
    "    # Open the file for input, save its content, and close it\n",
    "    oldFile = open(filePath, \"r\")\n",
    "    oldFileContent = oldFile.read()\n",
    "    oldFile.close()\n",
    "    \n",
    "    # Open the file for output and close it to empty it\n",
    "    newFile = open(filePath, \"w\")\n",
    "    newFile.close()\n",
    "    \n",
    "    # Return the original file content\n",
    "    return oldFileContent\n",
    "\n",
    "# Example\n",
    "# myFileContent = fileWiper(myFilePath)\n",
    "# print(myFileContent)\n"
   ]
  },
  {
   "cell_type": "code",
   "execution_count": null,
   "id": "50f541ad-d29e-4f5a-8185-549e16dbeaba",
   "metadata": {},
   "outputs": [],
   "source": []
  }
 ],
 "metadata": {
  "colab": {
   "provenance": []
  },
  "kernelspec": {
   "display_name": "Python 3 (ipykernel)",
   "language": "python",
   "name": "python3"
  },
  "language_info": {
   "codemirror_mode": {
    "name": "ipython",
    "version": 3
   },
   "file_extension": ".py",
   "mimetype": "text/x-python",
   "name": "python",
   "nbconvert_exporter": "python",
   "pygments_lexer": "ipython3",
   "version": "3.12.4"
  }
 },
 "nbformat": 4,
 "nbformat_minor": 5
}
