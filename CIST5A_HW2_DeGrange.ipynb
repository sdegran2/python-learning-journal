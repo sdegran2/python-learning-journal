{
 "cells": [
  {
   "cell_type": "markdown",
   "id": "09753275",
   "metadata": {
    "id": "09753275"
   },
   "source": [
    "### Problem 1: Personalized Greeting\n",
    "Write a function called `miniMadLib` that takes three arguments `noun`, `verb`, and `adjective` and combines them to print out a one sentence madlib."
   ]
  },
  {
   "cell_type": "code",
   "execution_count": null,
   "id": "ddf2e45a",
   "metadata": {
    "id": "ddf2e45a"
   },
   "outputs": [],
   "source": [
    "def miniMadLib(noun, verb, adjective):\n",
    "    print(f\"The {noun} {verb} in the booby contest, winning the {adjective} booby prize!\")\n",
    "\n",
    "# example usage: miniMadLib(\"girl\", \"slept\", \"weirdest\")"
   ]
  },
  {
   "cell_type": "markdown",
   "id": "b4cea3d8",
   "metadata": {
    "id": "b4cea3d8"
   },
   "source": [
    "### Problem 2: Calculate the Volume of a Cylinder\n",
    "Write a function called `calculateCylinderVolume` that takes the radius and height of a cylinder and returns its internal volume. Use the built in math constant for pi."
   ]
  },
  {
   "cell_type": "code",
   "execution_count": null,
   "id": "024d5340",
   "metadata": {
    "id": "024d5340"
   },
   "outputs": [],
   "source": [
    "import math     # needed for π (math.pi)\n",
    "def calculateCylinderVolume(radius, height):\n",
    "    # The formula for the area of a cylinder is 2πrh  (2*math.pi*radius*height)\n",
    "    return 2 * math.pi * radius * height\n",
    "\n"
   ]
  },
  {
   "cell_type": "markdown",
   "id": "92c72848",
   "metadata": {
    "id": "92c72848"
   },
   "source": [
    "### Problem 3: File Reader\n",
    "Write a function called `fileWiper` that takes in a file path and stores the content of the file in a string before wiping the file blank and returning the stored string."
   ]
  },
  {
   "cell_type": "code",
   "execution_count": null,
   "id": "0ec2ccdd",
   "metadata": {
    "id": "0ec2ccdd"
   },
   "outputs": [],
   "source": [
    "def fileWiper(filePath):\n",
    "    oldFile = open(filePath, \"r\")\n",
    "    oldFileContent = oldFile.read()\n",
    "    oldFile.close()\n",
    "    \n",
    "    newFile = open(filePath, \"w\")\n",
    "    newFile.close()\n",
    "    \n",
    "    return oldFileContent\n",
    "\n"
   ]
  }
 ],
 "metadata": {
  "colab": {
   "provenance": []
  },
  "kernelspec": {
   "display_name": "Python 3 (ipykernel)",
   "language": "python",
   "name": "python3"
  },
  "language_info": {
   "codemirror_mode": {
    "name": "ipython",
    "version": 3
   },
   "file_extension": ".py",
   "mimetype": "text/x-python",
   "name": "python",
   "nbconvert_exporter": "python",
   "pygments_lexer": "ipython3",
   "version": "3.12.4"
  }
 },
 "nbformat": 4,
 "nbformat_minor": 5
}
