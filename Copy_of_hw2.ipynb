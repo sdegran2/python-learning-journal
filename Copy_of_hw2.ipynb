{
  "nbformat": 4,
  "nbformat_minor": 0,
  "metadata": {
    "colab": {
      "provenance": [],
      "authorship_tag": "ABX9TyOydDkO6sqKNQ5JsVtmkEa0",
      "include_colab_link": true
    },
    "kernelspec": {
      "name": "python3",
      "display_name": "Python 3"
    },
    "language_info": {
      "name": "python"
    }
  },
  "cells": [
    {
      "cell_type": "markdown",
      "metadata": {
        "id": "view-in-github",
        "colab_type": "text"
      },
      "source": [
        "<a href=\"https://colab.research.google.com/github/sdegran2/python-learning-journal/blob/main/Copy_of_hw2.ipynb\" target=\"_parent\"><img src=\"https://colab.research.google.com/assets/colab-badge.svg\" alt=\"Open In Colab\"/></a>"
      ]
    },
    {
      "cell_type": "code",
      "execution_count": null,
      "metadata": {
        "id": "XdCfK9-da1k2"
      },
      "outputs": [],
      "source": []
    },
    {
      "cell_type": "code",
      "source": [
        "# Convert a distance entered in kilometers to miles (1 km = 0.621 mi)\n",
        "print (\"\\nEnter kilometer distance to convert to miles:\")\n",
        "kilometers = float(input())\n",
        "miles = kilometers * 0.621\n",
        "print (\"\\n\" + str(kilometers) + \" kilometers = \" + str(miles) + \" miles\")\n",
        "\n",
        "# Convert degrees entered in Celsius to Fahrenheit (deg F = 9/5 * deg F + 32)\n",
        "print (\"\\nEnter Celsius degrees to convert to Fahrenheit:\")\n",
        "celsius = float(input())\n",
        "fahrenheit = celsius * 9/5 + 32\n",
        "print (\"\\n\" + str(celsius) + \" Celsius = \" + str(fahrenheit) + \" Fahrenheit\")\n",
        "\n",
        "# Convert a binary number string of 0s and 1s entered to decimal\n",
        "print (\"\\nEnter a binary number to convert to decimal:\")\n",
        "binaryNumber = input()\n",
        "decimalNumber = 0\n",
        "binaryValid = True\n",
        "for bitPlace in range(len(binaryNumber)):\n",
        "  bit = binaryNumber[len(binaryNumber)-(bitPlace+1)]\n",
        "  bitValue = 2**bitPlace\n",
        "  if str(bit) == \"1\":\n",
        "    decimalNumber += bitValue\n",
        "  else:\n",
        "    if str(bit) != \"0\":\n",
        "      binaryValid = False\n",
        "if binaryValid:\n",
        "  print (\"\\n\" + str(binaryNumber) + \" binary = \" + str(decimalNumber) + \" decimal\")\n",
        "else:\n",
        "  print(\"\\n\" + binaryNumber + \" is not a valid binary number\")"
      ],
      "metadata": {
        "colab": {
          "base_uri": "https://localhost:8080/",
          "height": 263
        },
        "id": "TFMuPNmna3YT",
        "outputId": "1bf6b102-7853-4645-be67-80618e8a32dd"
      },
      "execution_count": null,
      "outputs": [
        {
          "name": "stdout",
          "output_type": "stream",
          "text": [
            "\n",
            "Enter kilometer distance to convert to miles:\n",
            "all\n"
          ]
        },
        {
          "output_type": "error",
          "ename": "ValueError",
          "evalue": "could not convert string to float: 'all'",
          "traceback": [
            "\u001b[0;31m---------------------------------------------------------------------------\u001b[0m",
            "\u001b[0;31mValueError\u001b[0m                                Traceback (most recent call last)",
            "\u001b[0;32m<ipython-input-23-536a4a898e54>\u001b[0m in \u001b[0;36m<cell line: 3>\u001b[0;34m()\u001b[0m\n\u001b[1;32m      1\u001b[0m \u001b[0;31m# Convert a distance in kilometers to miles (1 km = 0.621 mi)\u001b[0m\u001b[0;34m\u001b[0m\u001b[0;34m\u001b[0m\u001b[0m\n\u001b[1;32m      2\u001b[0m \u001b[0mprint\u001b[0m \u001b[0;34m(\u001b[0m\u001b[0;34m\"\\nEnter kilometer distance to convert to miles:\"\u001b[0m\u001b[0;34m)\u001b[0m\u001b[0;34m\u001b[0m\u001b[0;34m\u001b[0m\u001b[0m\n\u001b[0;32m----> 3\u001b[0;31m \u001b[0mkilometers\u001b[0m \u001b[0;34m=\u001b[0m \u001b[0mfloat\u001b[0m\u001b[0;34m(\u001b[0m\u001b[0minput\u001b[0m\u001b[0;34m(\u001b[0m\u001b[0;34m)\u001b[0m\u001b[0;34m)\u001b[0m\u001b[0;34m\u001b[0m\u001b[0;34m\u001b[0m\u001b[0m\n\u001b[0m\u001b[1;32m      4\u001b[0m \u001b[0mmiles\u001b[0m \u001b[0;34m=\u001b[0m \u001b[0mkilometers\u001b[0m \u001b[0;34m*\u001b[0m \u001b[0;36m0.621\u001b[0m\u001b[0;34m\u001b[0m\u001b[0;34m\u001b[0m\u001b[0m\n\u001b[1;32m      5\u001b[0m \u001b[0mprint\u001b[0m \u001b[0;34m(\u001b[0m\u001b[0;34m\"\\n\"\u001b[0m \u001b[0;34m+\u001b[0m \u001b[0mstr\u001b[0m\u001b[0;34m(\u001b[0m\u001b[0mkilometers\u001b[0m\u001b[0;34m)\u001b[0m \u001b[0;34m+\u001b[0m \u001b[0;34m\" kilometers = \"\u001b[0m \u001b[0;34m+\u001b[0m \u001b[0mstr\u001b[0m\u001b[0;34m(\u001b[0m\u001b[0mmiles\u001b[0m\u001b[0;34m)\u001b[0m \u001b[0;34m+\u001b[0m \u001b[0;34m\" miles\"\u001b[0m\u001b[0;34m)\u001b[0m\u001b[0;34m\u001b[0m\u001b[0;34m\u001b[0m\u001b[0m\n",
            "\u001b[0;31mValueError\u001b[0m: could not convert string to float: 'all'"
          ]
        }
      ]
    }
  ]
}