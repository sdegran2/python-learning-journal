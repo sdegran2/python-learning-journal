{
  "nbformat": 4,
  "nbformat_minor": 0,
  "metadata": {
    "colab": {
      "provenance": [],
      "authorship_tag": "ABX9TyM9UkQBuMJ0ILSDg+lC/2HQ",
      "include_colab_link": true
    },
    "kernelspec": {
      "name": "python3",
      "display_name": "Python 3"
    },
    "language_info": {
      "name": "python"
    }
  },
  "cells": [
    {
      "cell_type": "markdown",
      "metadata": {
        "id": "view-in-github",
        "colab_type": "text"
      },
      "source": [
        "<a href=\"https://colab.research.google.com/github/sdegran2/python-learning-journal/blob/main/Copy_of_hw2.ipynb\" target=\"_parent\"><img src=\"https://colab.research.google.com/assets/colab-badge.svg\" alt=\"Open In Colab\"/></a>"
      ]
    },
    {
      "cell_type": "code",
      "execution_count": null,
      "metadata": {
        "id": "XdCfK9-da1k2"
      },
      "outputs": [],
      "source": []
    },
    {
      "cell_type": "code",
      "source": [
        "# Convert a distance entered in kilometers to miles (1 km = 0.621 mi)\n",
        "print (\"\\nEnter kilometer distance to convert to miles:\")\n",
        "kilometers = float(input())\n",
        "miles = kilometers * 0.621\n",
        "print (\"\\n\" + str(kilometers) + \" kilometers = \" + str(miles) + \" miles\")\n",
        "\n",
        "# Convert degrees entered in Celsius to Fahrenheit (deg F = 9/5 * deg F + 32)\n",
        "print (\"\\nEnter Celsius degrees to convert to Fahrenheit:\")\n",
        "celsius = float(input())\n",
        "fahrenheit = celsius * 9/5 + 32\n",
        "print (\"\\n\" + str(celsius) + \" Celsius = \" + str(fahrenheit) + \" Fahrenheit\")\n",
        "\n",
        "# Convert a binary number string of 0s and 1s entered to decimal\n",
        "print (\"\\nEnter a binary number to convert to decimal:\")\n",
        "binaryNumber = input()\n",
        "decimalNumber = 0\n",
        "binaryValid = True\n",
        "for bitPlace in range(len(binaryNumber)):\n",
        "  bit = binaryNumber[len(binaryNumber)-(bitPlace+1)]\n",
        "  bitValue = 2**bitPlace\n",
        "  if str(bit) == \"1\":\n",
        "    decimalNumber += bitValue\n",
        "  else:\n",
        "    if str(bit) != \"0\":\n",
        "      binaryValid = False\n",
        "if binaryValid:\n",
        "  print (\"\\n\" + str(binaryNumber) + \" binary = \" + str(decimalNumber) + \" decimal\")\n",
        "else:\n",
        "  print(\"\\n\" + binaryNumber + \" is not a valid binary number\")\n",
        "\n",
        "input()"
      ],
      "metadata": {
        "colab": {
          "base_uri": "https://localhost:8080/",
          "height": 313
        },
        "id": "TFMuPNmna3YT",
        "outputId": "4800835e-4fc0-4ebe-9299-e74238daef30"
      },
      "execution_count": 1,
      "outputs": [
        {
          "name": "stdout",
          "output_type": "stream",
          "text": [
            "\n",
            "Enter kilometer distance to convert to miles:\n",
            "0\n",
            "\n",
            "0.0 kilometers = 0.0 miles\n",
            "\n",
            "Enter Celsius degrees to convert to Fahrenheit:\n",
            "0\n",
            "\n",
            "0.0 Celsius = 32.0 Fahrenheit\n",
            "\n",
            "Enter a binary number to convert to decimal:\n",
            "a\n",
            "\n",
            "a is not a valid binary number\n",
            "\n"
          ]
        },
        {
          "output_type": "execute_result",
          "data": {
            "text/plain": [
              "''"
            ],
            "application/vnd.google.colaboratory.intrinsic+json": {
              "type": "string"
            }
          },
          "metadata": {},
          "execution_count": 1
        }
      ]
    }
  ]
}