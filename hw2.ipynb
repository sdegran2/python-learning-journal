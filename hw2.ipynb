{
  "nbformat": 4,
  "nbformat_minor": 0,
  "metadata": {
    "colab": {
      "provenance": [],
      "authorship_tag": "ABX9TyMCaKim6UF0L8ocY0XD3jjv",
      "include_colab_link": true
    },
    "kernelspec": {
      "name": "python3",
      "display_name": "Python 3"
    },
    "language_info": {
      "name": "python"
    }
  },
  "cells": [
    {
      "cell_type": "markdown",
      "metadata": {
        "id": "view-in-github",
        "colab_type": "text"
      },
      "source": [
        "<a href=\"https://colab.research.google.com/github/sdegran2/python-learning-journal/blob/main/hw2.ipynb\" target=\"_parent\"><img src=\"https://colab.research.google.com/assets/colab-badge.svg\" alt=\"Open In Colab\"/></a>"
      ]
    },
    {
      "cell_type": "code",
      "execution_count": null,
      "metadata": {
        "id": "XdCfK9-da1k2"
      },
      "outputs": [],
      "source": []
    },
    {
      "cell_type": "code",
      "source": [
        "# Convert kilometers to miles\n",
        "print (\"\\nEnter kilometers to convert to miles:\")\n",
        "kilometers = float(input())\n",
        "miles = kilometers * 0.621\n",
        "print (\"Miles = \" + str(miles))\n",
        "\n",
        "# Convert degrees in Celsius to Fahrenheit\n",
        "print (\"\\nEnter Celsius degrees to convert to Fahrenheit:\")\n",
        "celsius = float(input())\n",
        "fahrenheit = celsius*9/5 + 32\n",
        "print (\"Fahrenheit degrees = \"+str(fahrenheit))\n",
        "\n",
        "# Convert a binary number to decimal\n",
        "print (\"\\nEnter a binary number to convert to decimal:\")\n",
        "binaryNumber = input()\n",
        "decimalNumber = 0\n",
        "binaryValid = True\n",
        "for bitPlace in range(len(binaryNumber)):\n",
        "  bit = binaryNumber[len(binaryNumber)-(bitPlace+1)]\n",
        "  bitValue = 2**bitPlace\n",
        "  if str(bit) == \"1\":\n",
        "    decimalNumber += bitValue\n",
        "  else:\n",
        "    if str(bit) != \"0\":\n",
        "      binaryValid = False\n",
        "if binaryValid:\n",
        "  print (\"Binary number \" + str(binaryNumber) + \" = decimal number \" + str(decimalNumber))\n",
        "else:\n",
        "  print(binaryNumber + \" is not a valid binary number\")"
      ],
      "metadata": {
        "colab": {
          "base_uri": "https://localhost:8080/"
        },
        "id": "TFMuPNmna3YT",
        "outputId": "c3131948-9341-4f28-90f2-ccf9e1ea28df"
      },
      "execution_count": 9,
      "outputs": [
        {
          "output_type": "stream",
          "name": "stdout",
          "text": [
            "\n",
            "Enter kilometers to convert to miles:\n",
            "0\n",
            "Miles = 0.0\n",
            "\n",
            "Enter Celsius degrees to convert to Fahrenheit:\n",
            "0\n",
            "Fahrenheit degrees = 32.0\n",
            "\n",
            "Enter binary number to convert to decimal:\n",
            "1234\n",
            "1234 is not a valid binary number\n"
          ]
        }
      ]
    }
  ]
}