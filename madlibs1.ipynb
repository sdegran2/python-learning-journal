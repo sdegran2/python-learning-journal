{
 "cells": [
  {
   "cell_type": "code",
   "execution_count": 2,
   "metadata": {
    "id": "IutxzYhZeklB"
   },
   "outputs": [
    {
     "name": "stdin",
     "output_type": "stream",
     "text": [
      "Enter a year:  2222\n",
      "Enter a descriptor describing the setting:  ww\n",
      "Enter what cities are built on:  ee\n",
      "Enter what's in the sky:  rr\n",
      "Enter another thing in the sky:  tt\n",
      "Enter one action:  yy\n",
      "Enter another action:  uu\n",
      "Enter a safe place:  ii\n",
      "Enter a secretive place:  oo\n"
     ]
    },
    {
     "name": "stdout",
     "output_type": "stream",
     "text": [
      "\n",
      "In a twist of fate, the time traveler accidentally ended up in the year 2222,\n",
      "where everything was ridiculously ww.\n",
      "\n",
      "Cities were now built on ee, and the sky was filled with rr that danced around tt.\n",
      "\n",
      "To make matters worse, the time traveler had to yy and uu their way through a landscape of giant rubber ducks.\n",
      "\n",
      "In a bizarre turn of events, the only safe haven was a peculiar ii,\n",
      "while the secret to restoring the future was hidden in the depths of oo.\n",
      "\n",
      "In the end our time traveler stayed at ii, yy and uu in madness.\n",
      "\n"
     ]
    },
    {
     "name": "stdin",
     "output_type": "stream",
     "text": [
      " \n"
     ]
    },
    {
     "data": {
      "text/plain": [
       "''"
      ]
     },
     "execution_count": 2,
     "metadata": {},
     "output_type": "execute_result"
    }
   ],
   "source": [
    "# Python lab Assignment 3 Part 1\n",
    "# Generate a madlibs story by\n",
    "#    Harrison Nguyen\n",
    "#    Yasmeen Soe\n",
    "#    Steve DeGrange\n",
    "#\n",
    "# This program gets story variables by prompting the user for input.\n",
    "# The input is logged to a file and a madlibs story is created.\n",
    "# The story is printed to the screen and separate story file is created.\n",
    "\n",
    "# A companion program reads a file of our log format lines and\n",
    "# fills in the story variables that way instead of prompting for values.\n",
    "\n",
    "# Open the log file\n",
    "log = open(\"c:madlibs.log\", \"w\")\n",
    "\n",
    "# Method prompt gets user input, logs it and returns it to the caller\n",
    "# Global variable log must already be defined as a file and open for write\n",
    "def prompt(promptFor):\n",
    "    response = input(promptFor)\n",
    "    log.write(response + \"\\n\")\n",
    "    return response\n",
    "\n",
    "# Get the year that the storyline pertains to, making sure it is an integer\n",
    "try:\n",
    "    year=int(prompt(\"Enter a year: \"))\n",
    "except:\n",
    "    year = 9999\n",
    "\n",
    "# Get the rest of the story variables, logging them as we go\n",
    "adjective1 = prompt(\"Enter a descriptor describing the setting: \")\n",
    "noun1 = prompt(\"Enter what cities are built on: \")\n",
    "noun2 = prompt(\"Enter what's in the sky: \")\n",
    "noun3 = prompt(\"Enter another thing in the sky: \")\n",
    "verb1 = prompt(\"Enter one action: \")\n",
    "verb2 = prompt(\"Enter another action: \")\n",
    "place1 = prompt(\"Enter a safe place: \")\n",
    "place2 = prompt(\"Enter a secretive place: \")\n",
    "\n",
    "# Generate the madlibs story, substituting in the variables\n",
    "madlibsStory = f\"\"\"\n",
    "In a twist of fate, the time traveler accidentally ended up in the year {year},\n",
    "where everything was ridiculously {adjective1}.\n",
    "\n",
    "Cities were now built on {noun1}, and the sky was filled with {noun2} that danced around {noun3}.\n",
    "\n",
    "To make matters worse, the time traveler had to {verb1} and {verb2} their way through a landscape of giant rubber ducks.\n",
    "\n",
    "In a bizarre turn of events, the only safe haven was a peculiar {place1},\n",
    "while the secret to restoring the future was hidden in the depths of {place2}.\n",
    "\n",
    "In the end our time traveler stayed at {place1}, {verb1} and {verb2} in madness.\n",
    "\"\"\"\n",
    "\n",
    "# Print the story to the user terminial\n",
    "print(madlibsStory)\n",
    "\n",
    "# Write the story to a file as well\n",
    "madlibsFile = open(\"c:madlibsstory.log\", \"w\")\n",
    "madlibsFile.write(madlibsStory)\n",
    "madlibsFile.close()\n",
    "\n",
    "# All done so close the log\n",
    "log.close()\n",
    "\n",
    "# Pause for user input so that the error or print() output can be viewed\n",
    "input()\n"
   ]
  },
  {
   "cell_type": "markdown",
   "metadata": {
    "id": "ISzfrvuh0DiI"
   },
   "source": []
  },
  {
   "cell_type": "code",
   "execution_count": null,
   "metadata": {
    "id": "SGrrDaI4mhX8"
   },
   "outputs": [],
   "source": []
  }
 ],
 "metadata": {
  "colab": {
   "provenance": []
  },
  "kernelspec": {
   "display_name": "Python 3 (ipykernel)",
   "language": "python",
   "name": "python3"
  },
  "language_info": {
   "codemirror_mode": {
    "name": "ipython",
    "version": 3
   },
   "file_extension": ".py",
   "mimetype": "text/x-python",
   "name": "python",
   "nbconvert_exporter": "python",
   "pygments_lexer": "ipython3",
   "version": "3.12.4"
  }
 },
 "nbformat": 4,
 "nbformat_minor": 4
}
