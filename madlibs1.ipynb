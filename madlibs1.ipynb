{
  "nbformat": 4,
  "nbformat_minor": 0,
  "metadata": {
    "colab": {
      "provenance": []
    },
    "kernelspec": {
      "name": "python3",
      "display_name": "Python 3"
    },
    "language_info": {
      "name": "python"
    }
  },
  "cells": [
    {
      "cell_type": "code",
      "execution_count": null,
      "metadata": {
        "id": "IutxzYhZeklB"
      },
      "outputs": [],
      "source": [
        "# Python lab Assignment 3\n",
        "# Generate a madlibs story by\n",
        "#    Harrison Nguyen\n",
        "#    Yasmeen Soe\n",
        "#    Steve DeGrange\n",
        "#\n",
        "# This program gets story variables by prompting the user for input.\n",
        "# The input is logged to a file and a madlibs story is created.\n",
        "# The story is printed to the screen and separate story file is created.\n",
        "\n",
        "# A companion program reads a file of our log format lines.\n",
        "# It fills in the story variables that way instead of prompting for values.\n",
        "\n",
        "# Method promptLog gets user input, logs it and returns it to the caller\n",
        "def promptLog(log, promptFor):\n",
        "    response = input(promptFor)\n",
        "    log.write(f\"{response}\\n\")\n",
        "    return response\n",
        "\n",
        "# Open the log file\n",
        "madlibsLog = open(\"c:madlibs.log\", \"w\")\n",
        "\n",
        "# Get the year that the storyline pertains to, making sure it is an integer\n",
        "try:\n",
        "  year=int(promptLog(madlibsLog,\"Enter a year: \"))\n",
        "except:\n",
        "  year = 9999\n",
        "\n",
        "# Get the rest of the story variables, logging them as we go\n",
        "adjective1 = promptLog(madlibsLog,\"Enter a descriptor describing the setting: \")\n",
        "noun1 = promptLog(madlibsLog,\"Enter what cities are built on: \")\n",
        "noun2 = promptLog(madlibsLog,\"Enter what's in the sky: \")\n",
        "noun3 = promptLog(madlibsLog,\"Enter another thing in the sky: \")\n",
        "verb1 = promptLog(madlibsLog,\"Enter an action: \")\n",
        "verb2 = promptLog(madlibsLog,\"Enter another action: \")\n",
        "place1 = promptLog(madlibsLog,\"Enter a safe place: \")\n",
        "place2 = promptLog(madlibsLog,\"Enter a secretive place: \")\n",
        "\n",
        "# Generate the madlibs story, substituting the variables in\n",
        "madlibsStory = f\"In a twist of fate, the time traveler accidentally ended up in the year {year}, where everything was ridiculously {adjective1}.\\nCities were now built on {noun1}, and the sky was filled with {noun2} that danced around {noun3}.\\nTo make matters worse, the time traveler had to {verb1} and {verb2} their way through a landscape of giant rubber ducks.\\nIn a bizarre turn of events, the only safe haven was a peculiar {place1}, while the secret to restoring the future was hidden in the depths of {place2}.\\nIn the end our time traveler stayed at {place1} {verb1} and {verb2} in madness.\"\n",
        "print(madlibsStory)\n",
        "\n",
        "# Write the story to a file as well ...\n",
        "madlibsFile = open(\"c:madlibsstory.log\", \"w\")\n",
        "madlibsFile.write(madlibsStory)\n",
        "madlibsFile.close()\n",
        "\n",
        "# All done so close the log\n",
        "madlibsLog.close()\n",
        "\n",
        "# Pause for user input so that the error or print() output can be viewed\n",
        "input()"
      ]
    },
    {
      "cell_type": "markdown",
      "source": [],
      "metadata": {
        "id": "ISzfrvuh0DiI"
      }
    },
    {
      "cell_type": "code",
      "source": [],
      "metadata": {
        "id": "SGrrDaI4mhX8"
      },
      "execution_count": null,
      "outputs": []
    }
  ]
}
