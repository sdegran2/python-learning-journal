{
 "cells": [
  {
   "cell_type": "code",
   "execution_count": null,
   "id": "2ecf4716-48c4-4569-822a-914f1c4367e6",
   "metadata": {},
   "outputs": [],
   "source": [
    "# Python lab Assignment 3\n",
    "# Generate a madlibs story by \n",
    "#    Harrison Nguyen\n",
    "#    Yasmeen Soe\n",
    "#    Steve DeGrange\n",
    "#\n",
    "# This program is a follow-on to our other madlibs program which gets typed responses.\n",
    "# This one reads a response log file in the format created by its older sister program.\n",
    "# The file format is eight records, each being a text string ending in a '\\n' character.\n",
    "\n",
    "# Open the response log file\n",
    "madlibsLog = open(\"c:madlibs.log\", \"r\")\n",
    "\n",
    "# Define a method for getting the next log record without the ending'\\n'\n",
    "def readLog(logFile):\n",
    "    nextLine = logFile.readline()\n",
    "    return nextLine.strip()\n",
    "\n",
    "# Get the year of our adventureous tale, using 9999 if a non-integer was read\n",
    "try:\n",
    "  year=int(readLog(madlibsLog))\n",
    "except:\n",
    "  year = 9999\n",
    "\n",
    "# Get the remaining 7 responses into madlib story variables, or \"\" if fewer than 7 exist\n",
    "adjective1 = readLog(madlibsLog)\n",
    "noun1 = readLog(madlibsLog)\n",
    "noun2 = readLog(madlibsLog)\n",
    "noun3 = readLog(madlibsLog)\n",
    "verb1 = readLog(madlibsLog)\n",
    "verb2 = readLog(madlibsLog)\n",
    "place1 = readLog(madlibsLog)\n",
    "place2 = readLog(madlibsLog)\n",
    "\n",
    "# Generate our madlibs story, filling in the story variables\n",
    "madlibsStory = f\"In a twist of fate, the time traveler accidentally ended up in the year {year}, where everything was ridiculously {adjective1}.\\nCities were now built on {noun1}, and the sky was filled with {noun2} that danced around {noun3}.\\nTo make matters worse, the time traveler had to {verb1} and {verb2} their way through a landscape of giant rubber ducks.\\nIn a bizarre turn of events, the only safe haven was a peculiar {place1}, while the secret to restoring the future was hidden in the depths of {place2}.\\nIn the end our time traveler stayed at {place1} {verb1} and {verb2} in madness.\"\n",
    "print(madlibsStory)\n",
    "\n",
    "# Create the story output file\n",
    "madlibsFile = open(\"c:madlibsstory.log\", \"w\")\n",
    "madlibsFile.write(madlibsStory)\n",
    "madlibsFile.close()\n",
    "\n",
    "# Done with the log file so close it\n",
    "madlibsLog.close()\n"
   ]
  },
  {
   "cell_type": "code",
   "execution_count": null,
   "id": "a57cf49f-9dc2-43e5-a620-bfdc641e24c7",
   "metadata": {},
   "outputs": [],
   "source": []
  }
 ],
 "metadata": {
  "kernelspec": {
   "display_name": "Python 3 (ipykernel)",
   "language": "python",
   "name": "python3"
  },
  "language_info": {
   "codemirror_mode": {
    "name": "ipython",
    "version": 3
   },
   "file_extension": ".py",
   "mimetype": "text/x-python",
   "name": "python",
   "nbconvert_exporter": "python",
   "pygments_lexer": "ipython3",
   "version": "3.12.4"
  }
 },
 "nbformat": 4,
 "nbformat_minor": 5
}
