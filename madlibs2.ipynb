{
 "cells": [
  {
   "cell_type": "code",
   "execution_count": 11,
   "id": "2ecf4716-48c4-4569-822a-914f1c4367e6",
   "metadata": {},
   "outputs": [
    {
     "name": "stdout",
     "output_type": "stream",
     "text": [
      "\n",
      "In a twist of fate, the time traveler accidentally ended up in the year 2222,\n",
      "where everything was ridiculously ww.\n",
      "\n",
      "Cities were now built on ee, and the sky was filled with rr that danced around tt.\n",
      "\n",
      "To make matters worse, the time traveler had to yy and uu their way through a landscape of giant rubber ducks.\n",
      "\n",
      "In a bizarre turn of events, the only safe haven was a peculiar ii,\n",
      "while the secret to restoring the future was hidden in the depths of oo.\n",
      "\n",
      "In the end our time traveler stayed at ii, yy and uu in madness.\n",
      "\n"
     ]
    }
   ],
   "source": [
    "# Python lab Assignment 3 Part 2\n",
    "# Generate a madlibs story by \n",
    "#    Harrison Nguyen\n",
    "#    Yasmeen Soe\n",
    "#    Steve DeGrange\n",
    "#\n",
    "# This program is a follow-on to our other madlibs1 program which gets typed responses.\n",
    "# This one reads a response log file in the format created by its older sister program.\n",
    "# The file format is eight records, each being a text string ending in a '\\n' character.\n",
    "\n",
    "# Open the response log file using global variable log\n",
    "log = open(\"c:madlibs.log\", \"r\")\n",
    "\n",
    "# Define a method for getting the next log record without the ending'\\n'\n",
    "def readLog():\n",
    "    nextLine = log.readline()\n",
    "    return nextLine.strip()\n",
    "\n",
    "# Get the year of our adventureous tale, using 9999 if a non-integer was read\n",
    "try:\n",
    "  year=int(readLog())\n",
    "except:\n",
    "  year = 9999\n",
    "\n",
    "# Get the remaining 7 responses into madlib story variables, or \"\" if fewer than 7 exist\n",
    "adjective1 = readLog()\n",
    "noun1 = readLog()\n",
    "noun2 = readLog()\n",
    "noun3 = readLog()\n",
    "verb1 = readLog()\n",
    "verb2 = readLog()\n",
    "place1 = readLog()\n",
    "place2 = readLog()\n",
    "\n",
    "# Generate the madlibs story, substituting in the variables\n",
    "madlibsStory = f\"\"\"\n",
    "In a twist of fate, the time traveler accidentally ended up in the year {year},\n",
    "where everything was ridiculously {adjective1}.\n",
    "\n",
    "Cities were now built on {noun1}, and the sky was filled with {noun2} that danced around {noun3}.\n",
    "\n",
    "To make matters worse, the time traveler had to {verb1} and {verb2} their way through a landscape of giant rubber ducks.\n",
    "\n",
    "In a bizarre turn of events, the only safe haven was a peculiar {place1},\n",
    "while the secret to restoring the future was hidden in the depths of {place2}.\n",
    "\n",
    "In the end our time traveler stayed at {place1}, {verb1} and {verb2} in madness.\n",
    "\"\"\"\n",
    "\n",
    "# Print the story to the user terminial\n",
    "print(madlibsStory)\n",
    "\n",
    "# Write the story to a file as well\n",
    "madlibsFile = open(\"c:madlibsstory.log\", \"w\")\n",
    "madlibsFile.write(madlibsStory)\n",
    "madlibsFile.close()\n",
    "\n",
    "# Done with the log file so close it\n",
    "log.close()\n"
   ]
  },
  {
   "cell_type": "code",
   "execution_count": null,
   "id": "9ef2305b-af8e-46a2-a945-39b6401336fd",
   "metadata": {},
   "outputs": [],
   "source": []
  }
 ],
 "metadata": {
  "kernelspec": {
   "display_name": "Python 3 (ipykernel)",
   "language": "python",
   "name": "python3"
  },
  "language_info": {
   "codemirror_mode": {
    "name": "ipython",
    "version": 3
   },
   "file_extension": ".py",
   "mimetype": "text/x-python",
   "name": "python",
   "nbconvert_exporter": "python",
   "pygments_lexer": "ipython3",
   "version": "3.12.4"
  }
 },
 "nbformat": 4,
 "nbformat_minor": 5
}
