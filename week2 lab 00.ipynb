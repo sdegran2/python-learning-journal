{
 "cells": [
  {
   "cell_type": "code",
   "execution_count": 8,
   "id": "2a011178-636a-4e19-8fa3-fc6e609f8288",
   "metadata": {},
   "outputs": [
    {
     "name": "stdout",
     "output_type": "stream",
     "text": [
      "\n",
      "Enter kilometer distance to convert to miles:\n"
     ]
    },
    {
     "name": "stdin",
     "output_type": "stream",
     "text": [
      " 0\n"
     ]
    },
    {
     "name": "stdout",
     "output_type": "stream",
     "text": [
      "\n",
      "0.00 kilometers is 0.00 miles\n",
      "\n",
      "Enter temperature in degrees Celsius to convert to Fahrenheit:\n"
     ]
    },
    {
     "name": "stdin",
     "output_type": "stream",
     "text": [
      " 0\n"
     ]
    },
    {
     "name": "stdout",
     "output_type": "stream",
     "text": [
      "\n",
      "0.00 Celsius is 32.00 Fahrenheit\n",
      "\n",
      "Enter a binary number to convert to decimal:\n"
     ]
    },
    {
     "name": "stdin",
     "output_type": "stream",
     "text": [
      " 2\n"
     ]
    },
    {
     "name": "stdout",
     "output_type": "stream",
     "text": [
      "\n",
      "Invalid input for binary number. Only digits 0 and 1 are valid. Try again.\n",
      "\n",
      "Enter a binary number to convert to decimal:\n"
     ]
    },
    {
     "name": "stdin",
     "output_type": "stream",
     "text": [
      " 1\n"
     ]
    },
    {
     "name": "stdout",
     "output_type": "stream",
     "text": [
      "\n",
      "1 binary is 1 decimal\n",
      "\n",
      "Enter any text to end program:\n"
     ]
    },
    {
     "name": "stdin",
     "output_type": "stream",
     "text": [
      " \n"
     ]
    },
    {
     "data": {
      "text/plain": [
       "''"
      ]
     },
     "execution_count": 8,
     "metadata": {},
     "output_type": "execute_result"
    }
   ],
   "source": [
    "\n",
    "#Week 2 Python lab Work: convert km to mi; deg. C to F; binary to decimal\n",
    "\n",
    "# Convert a distance entered in kilometers to miles (1 km = 0.621 mi)\n",
    "\n",
    "kilometersValid = False\n",
    "while not kilometersValid:\n",
    "    kilometersValid = True\n",
    "    print (\"\\nEnter kilometer distance to convert to miles:\")\n",
    "    try:\n",
    "        kilometers = float(input())\n",
    "    except:\n",
    "        kilometersValid = False\n",
    "        print (\"\\nInvalid input for number of kilometers. Try again.\")\n",
    "if kilometersValid:\n",
    "    miles = kilometers * 0.621\n",
    "    print (\"\\n\" + format(kilometers, \".2f\") + \" kilometers is \" + format(miles, \".2f\") + \" miles\")\n",
    "\n",
    "\n",
    "\n",
    "# Convert degrees entered in Celsius to Fahrenheit (degF = 9/5 * degC + 32)\n",
    "\n",
    "celsiusValid = False\n",
    "while not celsiusValid:\n",
    "    celsiusValid = True\n",
    "    print (\"\\nEnter temperature in degrees Celsius to convert to Fahrenheit:\")\n",
    "    try:\n",
    "        celsius = float(input())\n",
    "    except:\n",
    "        celsiusValid = False\n",
    "        print (\"\\nInvalid input for Celsius degrees. Try again.\")\n",
    "\n",
    "if celsiusValid:\n",
    "    fahrenheit = celsius * 9/5 + 32\n",
    "    print (\"\\n\" + format(celsius, \".2f\") + \" Celsius is \" + format(fahrenheit, \".2f\") + \" Fahrenheit\")\n",
    "\n",
    "\n",
    "# Convert a binary number entered as a string of 0s and 1s to decimal\n",
    "\n",
    "binaryValid = False\n",
    "while not binaryValid:\n",
    "    binaryValid = True\n",
    "    print (\"\\nEnter a binary number to convert to decimal:\")\n",
    "    try:\n",
    "        binaryNumber = input()\n",
    "    except:\n",
    "        binaryValid = False\n",
    "    if len(binaryNumber) == 0:\n",
    "        binaryValid = False\n",
    "    if binaryValid:\n",
    "        bitValue = 1\n",
    "        decimalNumber = 0\n",
    "        for bitPlace in range(len(binaryNumber)):\n",
    "            bit = binaryNumber[len(binaryNumber)-(bitPlace+1)]\n",
    "            bitValue = 2**bitPlace\n",
    "            if str(bit) == \"1\":\n",
    "                decimalNumber += bitValue\n",
    "            elif str(bit) != \"0\":\n",
    "                binaryValid = False\n",
    "    if binaryValid:\n",
    "        print (\"\\n\" + str(binaryNumber) + \" binary is \" + str(decimalNumber) + \" decimal\")\n",
    "    else:\n",
    "        print(\"\\nInvalid input for binary number. Only digits 0 and 1 are valid. Try again.\")\n",
    "        \n",
    "\n",
    "\n",
    "# Pause to allow review of results\n",
    "print(\"\\nEnter any text to end program:\")\n",
    "input()"
   ]
  },
  {
   "cell_type": "code",
   "execution_count": null,
   "id": "5b2fcc34-e96f-4d0a-a2c6-7649ecafcaf4",
   "metadata": {},
   "outputs": [],
   "source": [
    "0\n"
   ]
  }
 ],
 "metadata": {
  "kernelspec": {
   "display_name": "Python 3 (ipykernel)",
   "language": "python",
   "name": "python3"
  },
  "language_info": {
   "codemirror_mode": {
    "name": "ipython",
    "version": 3
   },
   "file_extension": ".py",
   "mimetype": "text/x-python",
   "name": "python",
   "nbconvert_exporter": "python",
   "pygments_lexer": "ipython3",
   "version": "3.12.4"
  }
 },
 "nbformat": 4,
 "nbformat_minor": 5
}
